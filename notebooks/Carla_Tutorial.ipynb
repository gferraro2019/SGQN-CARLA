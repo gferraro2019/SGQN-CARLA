{
 "cells": [
  {
   "cell_type": "markdown",
   "id": "e6f78216",
   "metadata": {},
   "source": [
    "# What is CARLA?"
   ]
  },
  {
   "cell_type": "markdown",
   "id": "53c098d8",
   "metadata": {},
   "source": [
    "CARLA is an open-source autonomous driving simulator. It was built from scratch to serve as a modular and flexible API to address a range of tasks involved in the problem of autonomous driving."
   ]
  },
  {
   "cell_type": "markdown",
   "id": "92ea4ae8",
   "metadata": {},
   "source": [
    "# What is its goal?"
   ]
  },
  {
   "cell_type": "markdown",
   "id": "8e9be7f8",
   "metadata": {},
   "source": [
    "One of the main goals of CARLA is to help democratize autonomous driving R&D, serving as a tool that can be easily accessed and customized by users (e.g. learning driving policies, training perception algorithms, etc.).\n"
   ]
  },
  {
   "cell_type": "markdown",
   "id": "81e3947e",
   "metadata": {},
   "source": [
    "# What's under the hood of Carla?"
   ]
  },
  {
   "cell_type": "markdown",
   "id": "cd4f8129",
   "metadata": {},
   "source": [
    "CARLA is grounded on Unreal Engine to run the simulation and uses the OpenDRIVE standard (1.4 as today) to define roads and urban settings. Control over the simulation is granted through an API handled in Python and C++ that is constantly growing as the project does."
   ]
  },
  {
   "cell_type": "markdown",
   "id": "e8cdf5be",
   "metadata": {},
   "source": [
    "# How  does it work?"
   ]
  },
  {
   "cell_type": "markdown",
   "id": "ea9a2616",
   "metadata": {},
   "source": [
    "The CARLA simulator consists of a scalable client-server architecture."
   ]
  },
  {
   "cell_type": "markdown",
   "id": "915b104e",
   "metadata": {},
   "source": [
    "<img src=\"./pictures/carla_modules.webp\" alt = \"Structure of Carla\">"
   ]
  },
  {
   "cell_type": "markdown",
   "id": "ce713994",
   "metadata": {},
   "source": [
    "## The server:"
   ]
  },
  {
   "cell_type": "markdown",
   "id": "94a83c9e",
   "metadata": {},
   "source": [
    "The server is responsible for everything related with the simulation itself: sensor rendering, computation of physics, updates on the world-state and its actors and much more. As it aims for realistic results, the best fit would be running the server with a dedicated GPU, especially when dealing with machine learning."
   ]
  },
  {
   "cell_type": "markdown",
   "id": "a8d563f4",
   "metadata": {},
   "source": [
    "## The Client:"
   ]
  },
  {
   "cell_type": "markdown",
   "id": "a4c1e564",
   "metadata": {},
   "source": [
    "The client side consists of a sum of client modules controlling the logic of actors on scene and setting world conditions. This is achieved by leveraging the CARLA API (in Python or C++), a layer that mediates between server and client that is constantly evolving to provide new functionalities.\n",
    "\n"
   ]
  },
  {
   "cell_type": "markdown",
   "id": "fd3cc622",
   "metadata": {},
   "source": [
    "## Some of the capabilietes of what Carla can achieve:"
   ]
  },
  {
   "cell_type": "markdown",
   "id": "56a66f8d",
   "metadata": {},
   "source": [
    "<b><li>Traffic manager.</b>A built-in system that takes control of the vehicles besides the one used for learning. It acts as a conductor provided by CARLA to recreate urban-like environments with realistic behaviours.\n",
    "<br><br>\n",
    "<b><li>Sensors.</b> Vehicles rely on them to dispense information of their surroundings. In CARLA they are a specific kind of actor attached the vehicle and the data they receive can be retrieved and stored to ease the process. Currently the project supports different types of these, <mark  style=\"background: yellow;\n",
    "  color:black\">from cameras to radars, lidar and many more.</mark>\n",
    "<br><br>\n",
    "<b><li>Recorder.</b>This feature is used to reenact a simulation step by step for every actor in the world. It grants access to any moment in the timeline anywhere in the world, making for a great tracing tool.\n",
    "<br><br>\n",
    "<b><li>ROS bridge and Autoware implementation.</b>As a matter of universalization, the CARLA project ties knots and works for the integration of the simulator within other learning environments.\n",
    "<br><br>\n",
    "<b><li>Open assets.</b>CARLA facilitates different maps for urban settings with <mark  style=\"background: yellow;\n",
    "  color:black\">control over weather conditions and a blueprint library with a wide set of actors to be used.</mark> However, these elements can be customized and new can be generated following simple guidelines.\n",
    "<br><br>\n",
    "<b><li>Scenario runner.</b>In order to ease the learning process for vehicles, CARLA provides a series of routes describing different situations to iterate on. These also set the basis for the CARLA challenge, open for everybody to test their solutions and make it to the leaderboard."
   ]
  },
  {
   "cell_type": "markdown",
   "id": "32daf292",
   "metadata": {},
   "source": [
    "# How to install it?"
   ]
  },
  {
   "cell_type": "markdown",
   "id": "5b410b08",
   "metadata": {},
   "source": [
    "https://carla.readthedocs.io/en/latest/start_quickstart/"
   ]
  },
  {
   "cell_type": "markdown",
   "id": "bf01ddbb",
   "metadata": {},
   "source": [
    "# How to run CARLA?"
   ]
  },
  {
   "cell_type": "markdown",
   "id": "657b9f9d",
   "metadata": {},
   "source": [
    "## 1. Start the server:\n",
    "<ol>\n",
    "    <li>Run the executable file either the CarlaUE4.sh or CarlaUE4.exe according to your OS. </li>\n",
    "    <li>A window containing a view over the city will pop up. This is the spectator view.<br></li>\n",
    "    <li>To fly around the city use the mouse and WASD keys, holding down the right mouse button to control the direction.</li>\n",
    "</ol> \n",
    "\n",
    "#### The server simulator is now running and waiting for a client to connect and interact with the world\n",
    "\n",
    "#### To use the server in no rendering mode: \n",
    "./CarlaUE4.sh -RenderOffScreen\n"
   ]
  },
  {
   "cell_type": "markdown",
   "id": "a9ebeb97",
   "metadata": {},
   "source": [
    "## 2. Start the client:"
   ]
  },
  {
   "cell_type": "code",
   "execution_count": null,
   "id": "5fddc7cc",
   "metadata": {},
   "outputs": [],
   "source": [
    "you can ran the combination of script that you desire, for instance from the PythonPI/examples:\n",
    "    - to spawn life into the city  run: generate_traffic.py\n",
    "    - to have dynamic weather run: dynamic_weather.py\n",
    "    - to drive a car manually run: manual_control.py"
   ]
  }
 ],
 "metadata": {
  "kernelspec": {
   "display_name": "Python 3 (ipykernel)",
   "language": "python",
   "name": "python3"
  },
  "language_info": {
   "codemirror_mode": {
    "name": "ipython",
    "version": 3
   },
   "file_extension": ".py",
   "mimetype": "text/x-python",
   "name": "python",
   "nbconvert_exporter": "python",
   "pygments_lexer": "ipython3",
   "version": "3.8.13"
  }
 },
 "nbformat": 4,
 "nbformat_minor": 5
}
